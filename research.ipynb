{
 "cells": [
  {
   "cell_type": "markdown",
   "metadata": {},
   "source": [
    "# Import"
   ]
  },
  {
   "cell_type": "code",
   "execution_count": 1,
   "metadata": {},
   "outputs": [
    {
     "name": "stderr",
     "output_type": "stream",
     "text": [
      "c:\\Users\\h4has\\anaconda3\\envs\\lora\\lib\\site-packages\\tqdm\\auto.py:21: TqdmWarning: IProgress not found. Please update jupyter and ipywidgets. See https://ipywidgets.readthedocs.io/en/stable/user_install.html\n",
      "  from .autonotebook import tqdm as notebook_tqdm\n"
     ]
    }
   ],
   "source": [
    "import transformers\n",
    "import torch\n",
    "import torch.nn as nn\n",
    "from transformers import DistilBertForSequenceClassification\n",
    "from transformers import DistilBertTokenizer"
   ]
  },
  {
   "cell_type": "code",
   "execution_count": 5,
   "metadata": {},
   "outputs": [],
   "source": [
    "from datasets import load_dataset"
   ]
  },
  {
   "cell_type": "code",
   "execution_count": 4,
   "metadata": {},
   "outputs": [],
   "source": [
    "from constants import MODEL_NAME, DATASET_URI, BATCH_SIZE, RANK, ALPHA"
   ]
  },
  {
   "cell_type": "code",
   "execution_count": 15,
   "metadata": {},
   "outputs": [],
   "source": [
    "from torch.utils.data import DataLoader, Dataset"
   ]
  },
  {
   "cell_type": "markdown",
   "metadata": {},
   "source": [
    "# dataset"
   ]
  },
  {
   "cell_type": "code",
   "execution_count": 6,
   "metadata": {},
   "outputs": [],
   "source": [
    "dataset = load_dataset('dair-ai/emotion')"
   ]
  },
  {
   "cell_type": "code",
   "execution_count": 7,
   "metadata": {},
   "outputs": [
    {
     "data": {
      "text/plain": [
       "DatasetDict({\n",
       "    train: Dataset({\n",
       "        features: ['text', 'label'],\n",
       "        num_rows: 16000\n",
       "    })\n",
       "    validation: Dataset({\n",
       "        features: ['text', 'label'],\n",
       "        num_rows: 2000\n",
       "    })\n",
       "    test: Dataset({\n",
       "        features: ['text', 'label'],\n",
       "        num_rows: 2000\n",
       "    })\n",
       "})"
      ]
     },
     "execution_count": 7,
     "metadata": {},
     "output_type": "execute_result"
    }
   ],
   "source": [
    "dataset"
   ]
  },
  {
   "cell_type": "code",
   "execution_count": 9,
   "metadata": {},
   "outputs": [],
   "source": [
    "tokenizer = DistilBertTokenizer.from_pretrained(MODEL_NAME)"
   ]
  },
  {
   "cell_type": "code",
   "execution_count": 10,
   "metadata": {},
   "outputs": [],
   "source": [
    "# Tokenize the dataset\n",
    "def tokenize_function(data):\n",
    "    return tokenizer(data['text'], padding=\"max_length\", truncation=True, max_length=128)\n"
   ]
  },
  {
   "cell_type": "code",
   "execution_count": 11,
   "metadata": {},
   "outputs": [
    {
     "name": "stderr",
     "output_type": "stream",
     "text": [
      "Map: 100%|██████████| 16000/16000 [00:06<00:00, 2288.60 examples/s]\n",
      "Map: 100%|██████████| 2000/2000 [00:01<00:00, 1759.24 examples/s]\n",
      "Map: 100%|██████████| 2000/2000 [00:01<00:00, 1714.04 examples/s]\n"
     ]
    }
   ],
   "source": [
    "tokenized_dataset = dataset.map(tokenize_function, batched=True)"
   ]
  },
  {
   "cell_type": "code",
   "execution_count": 22,
   "metadata": {},
   "outputs": [],
   "source": [
    "\n",
    "train_dataset = tokenized_dataset['train'].shuffle(seed=42).select(range(4000))\n",
    "val_dataset = tokenized_dataset['validation'].shuffle(seed=42).select(range(2000))\n",
    "test_dataset = tokenized_dataset['test'].shuffle(seed=42).select(range(1000))"
   ]
  },
  {
   "cell_type": "code",
   "execution_count": 13,
   "metadata": {},
   "outputs": [],
   "source": [
    "def collate_data(batch):\n",
    "    input_ids = torch.tensor([data['input_ids'] for data in batch])\n",
    "    mask = torch.tensor([data['attention_mask'] for data in batch])\n",
    "    labels = torch.tensor([data['label'] for data in batch])\n",
    "    return input_ids, mask,labels"
   ]
  },
  {
   "cell_type": "code",
   "execution_count": 16,
   "metadata": {},
   "outputs": [],
   "source": [
    "train_loader = DataLoader(train_dataset, batch_size=BATCH_SIZE, shuffle= True, collate_fn= collate_data)\n",
    "val_loader = DataLoader(val_dataset, batch_size=BATCH_SIZE, collate_fn= collate_data)\n",
    "test_loader = DataLoader(test_dataset, batch_size=BATCH_SIZE, collate_fn= collate_data)"
   ]
  },
  {
   "cell_type": "code",
   "execution_count": 17,
   "metadata": {},
   "outputs": [
    {
     "name": "stdout",
     "output_type": "stream",
     "text": [
      "3 (tensor([[ 101, 1045, 2514,  ...,    0,    0,    0],\n",
      "        [ 101, 1045, 2424,  ...,    0,    0,    0],\n",
      "        [ 101, 1045, 2079,  ...,    0,    0,    0],\n",
      "        ...,\n",
      "        [ 101, 1045, 2572,  ...,    0,    0,    0],\n",
      "        [ 101, 1045, 2514,  ...,    0,    0,    0],\n",
      "        [ 101, 1045, 4299,  ...,    0,    0,    0]]), tensor([[1, 1, 1,  ..., 0, 0, 0],\n",
      "        [1, 1, 1,  ..., 0, 0, 0],\n",
      "        [1, 1, 1,  ..., 0, 0, 0],\n",
      "        ...,\n",
      "        [1, 1, 1,  ..., 0, 0, 0],\n",
      "        [1, 1, 1,  ..., 0, 0, 0],\n",
      "        [1, 1, 1,  ..., 0, 0, 0]]), tensor([3, 1, 0, 1, 5, 4, 0, 0, 0, 2]))\n",
      "10 128 10\n"
     ]
    }
   ],
   "source": [
    "for data in iter(train_loader):\n",
    "    print(len(data),data)\n",
    "    # print(data.keys())\n",
    "    input_id, mask, label = data\n",
    "    print(len(input_id), len(input_id[1]),len(label))\n",
    "    break"
   ]
  },
  {
   "cell_type": "markdown",
   "metadata": {},
   "source": [
    "# Define lora model"
   ]
  },
  {
   "cell_type": "markdown",
   "metadata": {},
   "source": [
    "- define Lora layer () \n",
    "    - init() \n",
    "        - initilize rank and alpha\n",
    "        - Init A = N(0,1) [d*r] and B = 0 of size [r*k]\n",
    "        - scale = alpha/rank\n",
    "    - define forward() function\n",
    "        calc W +  scale * matmul (A,B)\n",
    "\n",
    "- define LoraModel ()\n",
    "    for layer in model.layers\n",
    "        layer = LoraLayer(layer)"
   ]
  },
  {
   "cell_type": "code",
   "execution_count": 18,
   "metadata": {},
   "outputs": [],
   "source": [
    "from constants import RANK, ALPHA"
   ]
  },
  {
   "cell_type": "code",
   "execution_count": 19,
   "metadata": {},
   "outputs": [],
   "source": [
    "class LoraLayer(nn.Module):\n",
    "    def __init__(self,lin_layer, rank = RANK, alpha = ALPHA):\n",
    "        super().__init__()\n",
    "        self.device = torch.device(\"cuda\" if torch.cuda.is_available() else \"cpu\")\n",
    "        in_feature,out_feature = lin_layer.in_features, lin_layer.out_features\n",
    "        self.A = nn.Parameter(torch.zeros(in_feature, rank)).to(self.device)\n",
    "        nn.init.normal_(self.A, mean=0, std=1)\n",
    "        self.B = nn.Parameter(torch.zeros(rank, out_feature)).to(self.device)\n",
    "        self.scale = alpha / rank\n",
    "        self.W = lin_layer.to(self.device)\n",
    "\n",
    "    def forward(self,x):\n",
    "        return self.W(x) + self.scale * (torch.matmul(torch.matmul(x, self.A), self.B))\n",
    "    "
   ]
  },
  {
   "cell_type": "markdown",
   "metadata": {},
   "source": [
    "# Lora model"
   ]
  },
  {
   "cell_type": "code",
   "execution_count": 21,
   "metadata": {},
   "outputs": [],
   "source": [
    "\n",
    "from tqdm import tqdm\n",
    "from torch.optim import Adam \n",
    "from torch.optim.lr_scheduler import  ReduceLROnPlateau"
   ]
  },
  {
   "cell_type": "code",
   "execution_count": 65,
   "metadata": {},
   "outputs": [],
   "source": [
    "class LoraModel():\n",
    "    def __init__(self, apply_lora = True):\n",
    "        self.base_model = DistilBertForSequenceClassification.from_pretrained(MODEL_NAME, num_labels = 6)\n",
    "        self.device = torch.device(\"cuda\" if torch.cuda.is_available() else \"cpu\") \n",
    "\n",
    "        for name,param in self.base_model.named_parameters():\n",
    "            if 'attention' in name:\n",
    "                print(name)\n",
    "                param.requires_grad = False \n",
    "\n",
    "        if apply_lora:\n",
    "            self.__apply_lora()\n",
    "\n",
    "    def __apply_lora(self):\n",
    "        for block in self.base_model.distilbert.transformer.layer: \n",
    "            block.attention.q_lin = LoraLayer(block.attention.q_lin)\n",
    "            block.attention.v_lin = LoraLayer(block.attention.v_lin)\n",
    "            block.attention.k_lin = LoraLayer(block.attention.k_lin)\n",
    "            block.attention.out_lin = LoraLayer(block.attention.out_lin)\n",
    "\n",
    "    def train(self,train_loader, val_loader, lr = 1e-5, num_epochs = 10):\n",
    "        optimizer = Adam(self.base_model.parameters(), lr= lr)\n",
    "        scheduler = ReduceLROnPlateau(optimizer, mode='min', factor=0.1, patience=2)\n",
    "        \n",
    "        self.base_model.train()\n",
    "        for i in range(num_epochs):\n",
    "            correct_pred, train_loss,total_train = 0,0,0  \n",
    "            \n",
    "            for step,batch in enumerate(tqdm(train_loader)): \n",
    "                input_ids,mask,labels = batch \n",
    "                outputs = self.base_model(input_ids, attention_mask = mask, labels = labels)\n",
    " \n",
    "                loss = outputs.loss\n",
    "                loss.backward()\n",
    "                optimizer.step() \n",
    "\n",
    "                predictions = torch.max(outputs.logits,dim = -1).indices \n",
    "                correct_pred += (predictions == labels).sum().item()\n",
    "                train_loss += loss.item()\n",
    "                total_train += len(labels) \n",
    "\n",
    "                # Update progress bar every 40 steps\n",
    "                if step % 40 == 0: \n",
    "                    print('Step:',step,'\\n [TRAIN] Loss:',train_loss/total_train, 'accuracy:',correct_pred/total_train)            \n",
    "                    # val_loss_avg, val_acc_avg = self.predict(val_loader)\n",
    "                    # print(f'[VAL] Loss: {val_loss_avg}, Accuracy: {val_acc_avg}')\n",
    "                    # scheduler.step(val_loss_avg)\n",
    "\n",
    "            scheduler.step(val_loss_avg)\n",
    "            train_loss_avg = train_loss/total_train\n",
    "            train_acc_avg = correct_pred/total_train\n",
    "            print(f'[TRAIN] Epoch {i+1} Loss: {train_loss_avg}, Accuracy: {train_acc_avg}')\n",
    "\n",
    "            val_loss_avg, val_acc_avg = self.predict(val_loader)\n",
    "            print(f'[VAL] Epoch {i+1} Loss: {val_loss_avg}, Accuracy: {val_acc_avg}')\n",
    "\n",
    "            scheduler.step(val_loss_avg)\n",
    "\n",
    "\n",
    "    def predict(self,data_loader):\n",
    "        self.base_model.eval()\n",
    "        correct_pred, val_test_loss, total_data = 0,0,0\n",
    "\n",
    "        with torch.no_grad():\n",
    "            for batch in data_loader:\n",
    "                input_ids, mask, labels = batch \n",
    "                output = self.base_model(input_ids, attention_mask = mask, labels = labels)\n",
    "                val_test_loss += output.loss.item() \n",
    "                prediction = torch.argmax(output.logits , dim = -1) \n",
    "                correct_pred += (prediction == labels).sum().item()\n",
    "                total_data += len(labels)\n",
    "\n",
    "        avg_loss = val_test_loss/total_data\n",
    "        avg_acc = correct_pred/total_data\n",
    "        return avg_loss,avg_acc\n",
    "    "
   ]
  },
  {
   "cell_type": "markdown",
   "metadata": {},
   "source": [
    "# Inference"
   ]
  },
  {
   "cell_type": "code",
   "execution_count": 66,
   "metadata": {},
   "outputs": [
    {
     "name": "stderr",
     "output_type": "stream",
     "text": [
      "Some weights of DistilBertForSequenceClassification were not initialized from the model checkpoint at distilbert-base-uncased and are newly initialized: ['classifier.bias', 'classifier.weight', 'pre_classifier.bias', 'pre_classifier.weight']\n",
      "You should probably TRAIN this model on a down-stream task to be able to use it for predictions and inference.\n"
     ]
    },
    {
     "name": "stdout",
     "output_type": "stream",
     "text": [
      "distilbert.transformer.layer.0.attention.q_lin.weight\n",
      "distilbert.transformer.layer.0.attention.q_lin.bias\n",
      "distilbert.transformer.layer.0.attention.k_lin.weight\n",
      "distilbert.transformer.layer.0.attention.k_lin.bias\n",
      "distilbert.transformer.layer.0.attention.v_lin.weight\n",
      "distilbert.transformer.layer.0.attention.v_lin.bias\n",
      "distilbert.transformer.layer.0.attention.out_lin.weight\n",
      "distilbert.transformer.layer.0.attention.out_lin.bias\n",
      "distilbert.transformer.layer.1.attention.q_lin.weight\n",
      "distilbert.transformer.layer.1.attention.q_lin.bias\n",
      "distilbert.transformer.layer.1.attention.k_lin.weight\n",
      "distilbert.transformer.layer.1.attention.k_lin.bias\n",
      "distilbert.transformer.layer.1.attention.v_lin.weight\n",
      "distilbert.transformer.layer.1.attention.v_lin.bias\n",
      "distilbert.transformer.layer.1.attention.out_lin.weight\n",
      "distilbert.transformer.layer.1.attention.out_lin.bias\n",
      "distilbert.transformer.layer.2.attention.q_lin.weight\n",
      "distilbert.transformer.layer.2.attention.q_lin.bias\n",
      "distilbert.transformer.layer.2.attention.k_lin.weight\n",
      "distilbert.transformer.layer.2.attention.k_lin.bias\n",
      "distilbert.transformer.layer.2.attention.v_lin.weight\n",
      "distilbert.transformer.layer.2.attention.v_lin.bias\n",
      "distilbert.transformer.layer.2.attention.out_lin.weight\n",
      "distilbert.transformer.layer.2.attention.out_lin.bias\n",
      "distilbert.transformer.layer.3.attention.q_lin.weight\n",
      "distilbert.transformer.layer.3.attention.q_lin.bias\n",
      "distilbert.transformer.layer.3.attention.k_lin.weight\n",
      "distilbert.transformer.layer.3.attention.k_lin.bias\n",
      "distilbert.transformer.layer.3.attention.v_lin.weight\n",
      "distilbert.transformer.layer.3.attention.v_lin.bias\n",
      "distilbert.transformer.layer.3.attention.out_lin.weight\n",
      "distilbert.transformer.layer.3.attention.out_lin.bias\n",
      "distilbert.transformer.layer.4.attention.q_lin.weight\n",
      "distilbert.transformer.layer.4.attention.q_lin.bias\n",
      "distilbert.transformer.layer.4.attention.k_lin.weight\n",
      "distilbert.transformer.layer.4.attention.k_lin.bias\n",
      "distilbert.transformer.layer.4.attention.v_lin.weight\n",
      "distilbert.transformer.layer.4.attention.v_lin.bias\n",
      "distilbert.transformer.layer.4.attention.out_lin.weight\n",
      "distilbert.transformer.layer.4.attention.out_lin.bias\n",
      "distilbert.transformer.layer.5.attention.q_lin.weight\n",
      "distilbert.transformer.layer.5.attention.q_lin.bias\n",
      "distilbert.transformer.layer.5.attention.k_lin.weight\n",
      "distilbert.transformer.layer.5.attention.k_lin.bias\n",
      "distilbert.transformer.layer.5.attention.v_lin.weight\n",
      "distilbert.transformer.layer.5.attention.v_lin.bias\n",
      "distilbert.transformer.layer.5.attention.out_lin.weight\n",
      "distilbert.transformer.layer.5.attention.out_lin.bias\n"
     ]
    }
   ],
   "source": [
    "bert_model = LoraModel(apply_lora=False)"
   ]
  },
  {
   "cell_type": "code",
   "execution_count": null,
   "metadata": {},
   "outputs": [],
   "source": [
    "avg_loss,avg_acc = bert_model.predict(test_loader)"
   ]
  },
  {
   "cell_type": "code",
   "execution_count": 53,
   "metadata": {},
   "outputs": [
    {
     "name": "stdout",
     "output_type": "stream",
     "text": [
      "accuracy_score 6.2\n"
     ]
    }
   ],
   "source": [
    "print('accuracy_score', avg_acc*100)"
   ]
  },
  {
   "cell_type": "markdown",
   "metadata": {},
   "source": [
    "# FIne tune"
   ]
  },
  {
   "cell_type": "code",
   "execution_count": 64,
   "metadata": {},
   "outputs": [
    {
     "name": "stderr",
     "output_type": "stream",
     "text": [
      "Some weights of DistilBertForSequenceClassification were not initialized from the model checkpoint at distilbert-base-uncased and are newly initialized: ['classifier.bias', 'classifier.weight', 'pre_classifier.bias', 'pre_classifier.weight']\n",
      "You should probably TRAIN this model on a down-stream task to be able to use it for predictions and inference.\n"
     ]
    },
    {
     "name": "stdout",
     "output_type": "stream",
     "text": [
      "distilbert.embeddings.word_embeddings.weight\n",
      "distilbert.embeddings.position_embeddings.weight\n",
      "distilbert.embeddings.LayerNorm.weight\n",
      "distilbert.embeddings.LayerNorm.bias\n",
      "distilbert.transformer.layer.0.attention.q_lin.weight\n",
      "distilbert.transformer.layer.0.attention.q_lin.bias\n",
      "distilbert.transformer.layer.0.attention.k_lin.weight\n",
      "distilbert.transformer.layer.0.attention.k_lin.bias\n",
      "distilbert.transformer.layer.0.attention.v_lin.weight\n",
      "distilbert.transformer.layer.0.attention.v_lin.bias\n",
      "distilbert.transformer.layer.0.attention.out_lin.weight\n",
      "distilbert.transformer.layer.0.attention.out_lin.bias\n",
      "distilbert.transformer.layer.0.sa_layer_norm.weight\n",
      "distilbert.transformer.layer.0.sa_layer_norm.bias\n",
      "distilbert.transformer.layer.0.ffn.lin1.weight\n",
      "distilbert.transformer.layer.0.ffn.lin1.bias\n",
      "distilbert.transformer.layer.0.ffn.lin2.weight\n",
      "distilbert.transformer.layer.0.ffn.lin2.bias\n",
      "distilbert.transformer.layer.0.output_layer_norm.weight\n",
      "distilbert.transformer.layer.0.output_layer_norm.bias\n",
      "distilbert.transformer.layer.1.attention.q_lin.weight\n",
      "distilbert.transformer.layer.1.attention.q_lin.bias\n",
      "distilbert.transformer.layer.1.attention.k_lin.weight\n",
      "distilbert.transformer.layer.1.attention.k_lin.bias\n",
      "distilbert.transformer.layer.1.attention.v_lin.weight\n",
      "distilbert.transformer.layer.1.attention.v_lin.bias\n",
      "distilbert.transformer.layer.1.attention.out_lin.weight\n",
      "distilbert.transformer.layer.1.attention.out_lin.bias\n",
      "distilbert.transformer.layer.1.sa_layer_norm.weight\n",
      "distilbert.transformer.layer.1.sa_layer_norm.bias\n",
      "distilbert.transformer.layer.1.ffn.lin1.weight\n",
      "distilbert.transformer.layer.1.ffn.lin1.bias\n",
      "distilbert.transformer.layer.1.ffn.lin2.weight\n",
      "distilbert.transformer.layer.1.ffn.lin2.bias\n",
      "distilbert.transformer.layer.1.output_layer_norm.weight\n",
      "distilbert.transformer.layer.1.output_layer_norm.bias\n",
      "distilbert.transformer.layer.2.attention.q_lin.weight\n",
      "distilbert.transformer.layer.2.attention.q_lin.bias\n",
      "distilbert.transformer.layer.2.attention.k_lin.weight\n",
      "distilbert.transformer.layer.2.attention.k_lin.bias\n",
      "distilbert.transformer.layer.2.attention.v_lin.weight\n",
      "distilbert.transformer.layer.2.attention.v_lin.bias\n",
      "distilbert.transformer.layer.2.attention.out_lin.weight\n",
      "distilbert.transformer.layer.2.attention.out_lin.bias\n",
      "distilbert.transformer.layer.2.sa_layer_norm.weight\n",
      "distilbert.transformer.layer.2.sa_layer_norm.bias\n",
      "distilbert.transformer.layer.2.ffn.lin1.weight\n",
      "distilbert.transformer.layer.2.ffn.lin1.bias\n",
      "distilbert.transformer.layer.2.ffn.lin2.weight\n",
      "distilbert.transformer.layer.2.ffn.lin2.bias\n",
      "distilbert.transformer.layer.2.output_layer_norm.weight\n",
      "distilbert.transformer.layer.2.output_layer_norm.bias\n",
      "distilbert.transformer.layer.3.attention.q_lin.weight\n",
      "distilbert.transformer.layer.3.attention.q_lin.bias\n",
      "distilbert.transformer.layer.3.attention.k_lin.weight\n",
      "distilbert.transformer.layer.3.attention.k_lin.bias\n",
      "distilbert.transformer.layer.3.attention.v_lin.weight\n",
      "distilbert.transformer.layer.3.attention.v_lin.bias\n",
      "distilbert.transformer.layer.3.attention.out_lin.weight\n",
      "distilbert.transformer.layer.3.attention.out_lin.bias\n",
      "distilbert.transformer.layer.3.sa_layer_norm.weight\n",
      "distilbert.transformer.layer.3.sa_layer_norm.bias\n",
      "distilbert.transformer.layer.3.ffn.lin1.weight\n",
      "distilbert.transformer.layer.3.ffn.lin1.bias\n",
      "distilbert.transformer.layer.3.ffn.lin2.weight\n",
      "distilbert.transformer.layer.3.ffn.lin2.bias\n",
      "distilbert.transformer.layer.3.output_layer_norm.weight\n",
      "distilbert.transformer.layer.3.output_layer_norm.bias\n",
      "distilbert.transformer.layer.4.attention.q_lin.weight\n",
      "distilbert.transformer.layer.4.attention.q_lin.bias\n",
      "distilbert.transformer.layer.4.attention.k_lin.weight\n",
      "distilbert.transformer.layer.4.attention.k_lin.bias\n",
      "distilbert.transformer.layer.4.attention.v_lin.weight\n",
      "distilbert.transformer.layer.4.attention.v_lin.bias\n",
      "distilbert.transformer.layer.4.attention.out_lin.weight\n",
      "distilbert.transformer.layer.4.attention.out_lin.bias\n",
      "distilbert.transformer.layer.4.sa_layer_norm.weight\n",
      "distilbert.transformer.layer.4.sa_layer_norm.bias\n",
      "distilbert.transformer.layer.4.ffn.lin1.weight\n",
      "distilbert.transformer.layer.4.ffn.lin1.bias\n",
      "distilbert.transformer.layer.4.ffn.lin2.weight\n",
      "distilbert.transformer.layer.4.ffn.lin2.bias\n",
      "distilbert.transformer.layer.4.output_layer_norm.weight\n",
      "distilbert.transformer.layer.4.output_layer_norm.bias\n",
      "distilbert.transformer.layer.5.attention.q_lin.weight\n",
      "distilbert.transformer.layer.5.attention.q_lin.bias\n",
      "distilbert.transformer.layer.5.attention.k_lin.weight\n",
      "distilbert.transformer.layer.5.attention.k_lin.bias\n",
      "distilbert.transformer.layer.5.attention.v_lin.weight\n",
      "distilbert.transformer.layer.5.attention.v_lin.bias\n",
      "distilbert.transformer.layer.5.attention.out_lin.weight\n",
      "distilbert.transformer.layer.5.attention.out_lin.bias\n",
      "distilbert.transformer.layer.5.sa_layer_norm.weight\n",
      "distilbert.transformer.layer.5.sa_layer_norm.bias\n",
      "distilbert.transformer.layer.5.ffn.lin1.weight\n",
      "distilbert.transformer.layer.5.ffn.lin1.bias\n",
      "distilbert.transformer.layer.5.ffn.lin2.weight\n",
      "distilbert.transformer.layer.5.ffn.lin2.bias\n",
      "distilbert.transformer.layer.5.output_layer_norm.weight\n",
      "distilbert.transformer.layer.5.output_layer_norm.bias\n",
      "pre_classifier.weight\n",
      "pre_classifier.bias\n",
      "classifier.weight\n",
      "classifier.bias\n"
     ]
    }
   ],
   "source": [
    "lora_model = LoraModel()"
   ]
  },
  {
   "cell_type": "code",
   "execution_count": 62,
   "metadata": {},
   "outputs": [
    {
     "name": "stderr",
     "output_type": "stream",
     "text": [
      "  0%|          | 1/400 [00:01<09:08,  1.37s/it]"
     ]
    },
    {
     "name": "stdout",
     "output_type": "stream",
     "text": [
      "Step: 0 \n",
      " [TRAIN] Loss: 0.1876000165939331 accuracy: 0.1\n"
     ]
    },
    {
     "name": "stderr",
     "output_type": "stream",
     "text": [
      " 10%|█         | 41/400 [01:15<12:41,  2.12s/it]"
     ]
    },
    {
     "name": "stdout",
     "output_type": "stream",
     "text": [
      "Step: 40 \n",
      " [TRAIN] Loss: 0.17714196995991033 accuracy: 0.1975609756097561\n"
     ]
    },
    {
     "name": "stderr",
     "output_type": "stream",
     "text": [
      " 13%|█▎        | 51/400 [01:40<11:30,  1.98s/it]\n"
     ]
    },
    {
     "ename": "KeyboardInterrupt",
     "evalue": "",
     "output_type": "error",
     "traceback": [
      "\u001b[1;31m---------------------------------------------------------------------------\u001b[0m",
      "\u001b[1;31mKeyboardInterrupt\u001b[0m                         Traceback (most recent call last)",
      "Cell \u001b[1;32mIn[62], line 1\u001b[0m\n\u001b[1;32m----> 1\u001b[0m \u001b[43mlora_model\u001b[49m\u001b[38;5;241;43m.\u001b[39;49m\u001b[43mtrain\u001b[49m\u001b[43m(\u001b[49m\u001b[43mtrain_loader\u001b[49m\u001b[43m,\u001b[49m\u001b[43m \u001b[49m\u001b[43mval_loader\u001b[49m\u001b[43m,\u001b[49m\u001b[43m \u001b[49m\u001b[43mlr\u001b[49m\u001b[43m \u001b[49m\u001b[38;5;241;43m=\u001b[39;49m\u001b[43m \u001b[49m\u001b[38;5;241;43m1e-3\u001b[39;49m\u001b[43m,\u001b[49m\u001b[43m \u001b[49m\u001b[43mnum_epochs\u001b[49m\u001b[43m \u001b[49m\u001b[38;5;241;43m=\u001b[39;49m\u001b[43m \u001b[49m\u001b[38;5;241;43m3\u001b[39;49m\u001b[43m \u001b[49m\u001b[43m)\u001b[49m\n",
      "Cell \u001b[1;32mIn[60], line 32\u001b[0m, in \u001b[0;36mLoraModel.train\u001b[1;34m(self, train_loader, val_loader, lr, num_epochs)\u001b[0m\n\u001b[0;32m     29\u001b[0m outputs \u001b[38;5;241m=\u001b[39m \u001b[38;5;28mself\u001b[39m\u001b[38;5;241m.\u001b[39mbase_model(input_ids, attention_mask \u001b[38;5;241m=\u001b[39m mask, labels \u001b[38;5;241m=\u001b[39m labels)\n\u001b[0;32m     31\u001b[0m loss \u001b[38;5;241m=\u001b[39m outputs\u001b[38;5;241m.\u001b[39mloss\n\u001b[1;32m---> 32\u001b[0m \u001b[43mloss\u001b[49m\u001b[38;5;241;43m.\u001b[39;49m\u001b[43mbackward\u001b[49m\u001b[43m(\u001b[49m\u001b[43m)\u001b[49m\n\u001b[0;32m     33\u001b[0m optimizer\u001b[38;5;241m.\u001b[39mstep() \n\u001b[0;32m     35\u001b[0m predictions \u001b[38;5;241m=\u001b[39m torch\u001b[38;5;241m.\u001b[39mmax(outputs\u001b[38;5;241m.\u001b[39mlogits,dim \u001b[38;5;241m=\u001b[39m \u001b[38;5;241m-\u001b[39m\u001b[38;5;241m1\u001b[39m)\u001b[38;5;241m.\u001b[39mindices \n",
      "File \u001b[1;32mc:\\Users\\h4has\\anaconda3\\envs\\sentencetrans\\lib\\site-packages\\torch\\_tensor.py:525\u001b[0m, in \u001b[0;36mTensor.backward\u001b[1;34m(self, gradient, retain_graph, create_graph, inputs)\u001b[0m\n\u001b[0;32m    515\u001b[0m \u001b[38;5;28;01mif\u001b[39;00m has_torch_function_unary(\u001b[38;5;28mself\u001b[39m):\n\u001b[0;32m    516\u001b[0m     \u001b[38;5;28;01mreturn\u001b[39;00m handle_torch_function(\n\u001b[0;32m    517\u001b[0m         Tensor\u001b[38;5;241m.\u001b[39mbackward,\n\u001b[0;32m    518\u001b[0m         (\u001b[38;5;28mself\u001b[39m,),\n\u001b[1;32m   (...)\u001b[0m\n\u001b[0;32m    523\u001b[0m         inputs\u001b[38;5;241m=\u001b[39minputs,\n\u001b[0;32m    524\u001b[0m     )\n\u001b[1;32m--> 525\u001b[0m \u001b[43mtorch\u001b[49m\u001b[38;5;241;43m.\u001b[39;49m\u001b[43mautograd\u001b[49m\u001b[38;5;241;43m.\u001b[39;49m\u001b[43mbackward\u001b[49m\u001b[43m(\u001b[49m\n\u001b[0;32m    526\u001b[0m \u001b[43m    \u001b[49m\u001b[38;5;28;43mself\u001b[39;49m\u001b[43m,\u001b[49m\u001b[43m \u001b[49m\u001b[43mgradient\u001b[49m\u001b[43m,\u001b[49m\u001b[43m \u001b[49m\u001b[43mretain_graph\u001b[49m\u001b[43m,\u001b[49m\u001b[43m \u001b[49m\u001b[43mcreate_graph\u001b[49m\u001b[43m,\u001b[49m\u001b[43m \u001b[49m\u001b[43minputs\u001b[49m\u001b[38;5;241;43m=\u001b[39;49m\u001b[43minputs\u001b[49m\n\u001b[0;32m    527\u001b[0m \u001b[43m\u001b[49m\u001b[43m)\u001b[49m\n",
      "File \u001b[1;32mc:\\Users\\h4has\\anaconda3\\envs\\sentencetrans\\lib\\site-packages\\torch\\autograd\\__init__.py:267\u001b[0m, in \u001b[0;36mbackward\u001b[1;34m(tensors, grad_tensors, retain_graph, create_graph, grad_variables, inputs)\u001b[0m\n\u001b[0;32m    262\u001b[0m     retain_graph \u001b[38;5;241m=\u001b[39m create_graph\n\u001b[0;32m    264\u001b[0m \u001b[38;5;66;03m# The reason we repeat the same comment below is that\u001b[39;00m\n\u001b[0;32m    265\u001b[0m \u001b[38;5;66;03m# some Python versions print out the first line of a multi-line function\u001b[39;00m\n\u001b[0;32m    266\u001b[0m \u001b[38;5;66;03m# calls in the traceback and some print out the last line\u001b[39;00m\n\u001b[1;32m--> 267\u001b[0m \u001b[43m_engine_run_backward\u001b[49m\u001b[43m(\u001b[49m\n\u001b[0;32m    268\u001b[0m \u001b[43m    \u001b[49m\u001b[43mtensors\u001b[49m\u001b[43m,\u001b[49m\n\u001b[0;32m    269\u001b[0m \u001b[43m    \u001b[49m\u001b[43mgrad_tensors_\u001b[49m\u001b[43m,\u001b[49m\n\u001b[0;32m    270\u001b[0m \u001b[43m    \u001b[49m\u001b[43mretain_graph\u001b[49m\u001b[43m,\u001b[49m\n\u001b[0;32m    271\u001b[0m \u001b[43m    \u001b[49m\u001b[43mcreate_graph\u001b[49m\u001b[43m,\u001b[49m\n\u001b[0;32m    272\u001b[0m \u001b[43m    \u001b[49m\u001b[43minputs\u001b[49m\u001b[43m,\u001b[49m\n\u001b[0;32m    273\u001b[0m \u001b[43m    \u001b[49m\u001b[43mallow_unreachable\u001b[49m\u001b[38;5;241;43m=\u001b[39;49m\u001b[38;5;28;43;01mTrue\u001b[39;49;00m\u001b[43m,\u001b[49m\n\u001b[0;32m    274\u001b[0m \u001b[43m    \u001b[49m\u001b[43maccumulate_grad\u001b[49m\u001b[38;5;241;43m=\u001b[39;49m\u001b[38;5;28;43;01mTrue\u001b[39;49;00m\u001b[43m,\u001b[49m\n\u001b[0;32m    275\u001b[0m \u001b[43m\u001b[49m\u001b[43m)\u001b[49m\n",
      "File \u001b[1;32mc:\\Users\\h4has\\anaconda3\\envs\\sentencetrans\\lib\\site-packages\\torch\\autograd\\graph.py:744\u001b[0m, in \u001b[0;36m_engine_run_backward\u001b[1;34m(t_outputs, *args, **kwargs)\u001b[0m\n\u001b[0;32m    742\u001b[0m     unregister_hooks \u001b[38;5;241m=\u001b[39m _register_logging_hooks_on_whole_graph(t_outputs)\n\u001b[0;32m    743\u001b[0m \u001b[38;5;28;01mtry\u001b[39;00m:\n\u001b[1;32m--> 744\u001b[0m     \u001b[38;5;28;01mreturn\u001b[39;00m Variable\u001b[38;5;241m.\u001b[39m_execution_engine\u001b[38;5;241m.\u001b[39mrun_backward(  \u001b[38;5;66;03m# Calls into the C++ engine to run the backward pass\u001b[39;00m\n\u001b[0;32m    745\u001b[0m         t_outputs, \u001b[38;5;241m*\u001b[39margs, \u001b[38;5;241m*\u001b[39m\u001b[38;5;241m*\u001b[39mkwargs\n\u001b[0;32m    746\u001b[0m     )  \u001b[38;5;66;03m# Calls into the C++ engine to run the backward pass\u001b[39;00m\n\u001b[0;32m    747\u001b[0m \u001b[38;5;28;01mfinally\u001b[39;00m:\n\u001b[0;32m    748\u001b[0m     \u001b[38;5;28;01mif\u001b[39;00m attach_logging_hooks:\n",
      "\u001b[1;31mKeyboardInterrupt\u001b[0m: "
     ]
    }
   ],
   "source": [
    "lora_model.train(train_loader, val_loader, lr = 1e-3, num_epochs = 3 )"
   ]
  },
  {
   "cell_type": "code",
   "execution_count": 60,
   "metadata": {},
   "outputs": [
    {
     "name": "stderr",
     "output_type": "stream",
     "text": []
    },
    {
     "name": "stdout",
     "output_type": "stream",
     "text": [
      "Loss: 0.17254927158355712 accuracy: 0.4\n"
     ]
    },
    {
     "name": "stderr",
     "output_type": "stream",
     "text": []
    },
    {
     "name": "stdout",
     "output_type": "stream",
     "text": [
      "Loss: 0.1752468847093128 accuracy: 0.30952380952380953\n"
     ]
    },
    {
     "name": "stderr",
     "output_type": "stream",
     "text": []
    },
    {
     "name": "stdout",
     "output_type": "stream",
     "text": [
      "Loss: 0.17038408256158596 accuracy: 0.32682926829268294\n"
     ]
    },
    {
     "name": "stderr",
     "output_type": "stream",
     "text": []
    },
    {
     "name": "stdout",
     "output_type": "stream",
     "text": [
      "Loss: 0.16696654538639255 accuracy: 0.3081967213114754\n"
     ]
    },
    {
     "name": "stderr",
     "output_type": "stream",
     "text": []
    },
    {
     "name": "stdout",
     "output_type": "stream",
     "text": [
      "Loss: 0.16445770234237483 accuracy: 0.3074074074074074\n"
     ]
    },
    {
     "name": "stderr",
     "output_type": "stream",
     "text": []
    },
    {
     "name": "stdout",
     "output_type": "stream",
     "text": [
      "Loss: 0.16225004207969893 accuracy: 0.3207920792079208\n"
     ]
    },
    {
     "name": "stderr",
     "output_type": "stream",
     "text": []
    },
    {
     "name": "stdout",
     "output_type": "stream",
     "text": [
      "Loss: 0.16097905576721697 accuracy: 0.3231404958677686\n"
     ]
    },
    {
     "name": "stderr",
     "output_type": "stream",
     "text": []
    },
    {
     "name": "stdout",
     "output_type": "stream",
     "text": [
      "Loss: 0.16117140866340474 accuracy: 0.3191489361702128\n"
     ]
    },
    {
     "name": "stderr",
     "output_type": "stream",
     "text": []
    },
    {
     "name": "stdout",
     "output_type": "stream",
     "text": [
      "Loss: 0.1608036308555129 accuracy: 0.3167701863354037\n"
     ]
    },
    {
     "name": "stderr",
     "output_type": "stream",
     "text": []
    },
    {
     "name": "stdout",
     "output_type": "stream",
     "text": [
      "Loss: 0.16108026873340922 accuracy: 0.318232044198895\n"
     ]
    },
    {
     "name": "stderr",
     "output_type": "stream",
     "text": []
    },
    {
     "name": "stdout",
     "output_type": "stream",
     "text": [
      "Loss: 0.16123788054309673 accuracy: 0.3144278606965174\n"
     ]
    },
    {
     "name": "stderr",
     "output_type": "stream",
     "text": []
    },
    {
     "name": "stdout",
     "output_type": "stream",
     "text": [
      "Loss: 0.16131286842251255 accuracy: 0.318552036199095\n"
     ]
    },
    {
     "name": "stderr",
     "output_type": "stream",
     "text": []
    },
    {
     "name": "stdout",
     "output_type": "stream",
     "text": [
      "Loss: 0.16109248038644117 accuracy: 0.3224066390041494\n"
     ]
    },
    {
     "name": "stderr",
     "output_type": "stream",
     "text": []
    },
    {
     "name": "stdout",
     "output_type": "stream",
     "text": [
      "Loss: 0.16095722269737858 accuracy: 0.3245210727969349\n"
     ]
    },
    {
     "name": "stderr",
     "output_type": "stream",
     "text": []
    },
    {
     "name": "stdout",
     "output_type": "stream",
     "text": [
      "Loss: 0.16058310715753413 accuracy: 0.32669039145907475\n"
     ]
    },
    {
     "name": "stderr",
     "output_type": "stream",
     "text": []
    },
    {
     "name": "stdout",
     "output_type": "stream",
     "text": [
      "Loss: 0.1605042103121051 accuracy: 0.3289036544850498\n"
     ]
    },
    {
     "name": "stderr",
     "output_type": "stream",
     "text": []
    },
    {
     "name": "stdout",
     "output_type": "stream",
     "text": [
      "Loss: 0.16046274094566748 accuracy: 0.3283489096573209\n"
     ]
    },
    {
     "name": "stderr",
     "output_type": "stream",
     "text": []
    },
    {
     "name": "stdout",
     "output_type": "stream",
     "text": [
      "Loss: 0.1602448949366371 accuracy: 0.330791788856305\n"
     ]
    },
    {
     "name": "stderr",
     "output_type": "stream",
     "text": []
    },
    {
     "name": "stdout",
     "output_type": "stream",
     "text": [
      "Loss: 0.16062685122450304 accuracy: 0.328808864265928\n"
     ]
    },
    {
     "ename": "KeyboardInterrupt",
     "evalue": "",
     "output_type": "error",
     "traceback": [
      "\u001b[1;31m---------------------------------------------------------------------------\u001b[0m",
      "\u001b[1;31mKeyboardInterrupt\u001b[0m                         Traceback (most recent call last)",
      "Cell \u001b[1;32mIn[60], line 1\u001b[0m\n\u001b[1;32m----> 1\u001b[0m \u001b[43mlora_model\u001b[49m\u001b[38;5;241;43m.\u001b[39;49m\u001b[43mtrain\u001b[49m\u001b[43m(\u001b[49m\u001b[43mtrain_loader\u001b[49m\u001b[43m,\u001b[49m\u001b[43m \u001b[49m\u001b[43mval_loader\u001b[49m\u001b[43m,\u001b[49m\u001b[43m \u001b[49m\u001b[43mlr\u001b[49m\u001b[43m \u001b[49m\u001b[38;5;241;43m=\u001b[39;49m\u001b[43m \u001b[49m\u001b[38;5;241;43m1e-4\u001b[39;49m\u001b[43m,\u001b[49m\u001b[43m \u001b[49m\u001b[43mnum_epochs\u001b[49m\u001b[43m \u001b[49m\u001b[38;5;241;43m=\u001b[39;49m\u001b[43m \u001b[49m\u001b[38;5;241;43m1\u001b[39;49m\u001b[43m \u001b[49m\u001b[43m)\u001b[49m\n",
      "Cell \u001b[1;32mIn[58], line 44\u001b[0m, in \u001b[0;36mLoraModel.train\u001b[1;34m(self, train_loader, val_loader, lr, num_epochs)\u001b[0m\n\u001b[0;32m     41\u001b[0m \u001b[38;5;66;03m# print(outputs)\u001b[39;00m\n\u001b[0;32m     43\u001b[0m loss \u001b[38;5;241m=\u001b[39m outputs\u001b[38;5;241m.\u001b[39mloss\n\u001b[1;32m---> 44\u001b[0m \u001b[43mloss\u001b[49m\u001b[38;5;241;43m.\u001b[39;49m\u001b[43mbackward\u001b[49m\u001b[43m(\u001b[49m\u001b[43m)\u001b[49m\n\u001b[0;32m     45\u001b[0m optimizer\u001b[38;5;241m.\u001b[39mstep()\n\u001b[0;32m     47\u001b[0m \u001b[38;5;66;03m# print(outputs.logits)\u001b[39;00m\n",
      "File \u001b[1;32mc:\\Users\\h4has\\anaconda3\\envs\\sentencetrans\\lib\\site-packages\\torch\\_tensor.py:525\u001b[0m, in \u001b[0;36mTensor.backward\u001b[1;34m(self, gradient, retain_graph, create_graph, inputs)\u001b[0m\n\u001b[0;32m    515\u001b[0m \u001b[38;5;28;01mif\u001b[39;00m has_torch_function_unary(\u001b[38;5;28mself\u001b[39m):\n\u001b[0;32m    516\u001b[0m     \u001b[38;5;28;01mreturn\u001b[39;00m handle_torch_function(\n\u001b[0;32m    517\u001b[0m         Tensor\u001b[38;5;241m.\u001b[39mbackward,\n\u001b[0;32m    518\u001b[0m         (\u001b[38;5;28mself\u001b[39m,),\n\u001b[1;32m   (...)\u001b[0m\n\u001b[0;32m    523\u001b[0m         inputs\u001b[38;5;241m=\u001b[39minputs,\n\u001b[0;32m    524\u001b[0m     )\n\u001b[1;32m--> 525\u001b[0m \u001b[43mtorch\u001b[49m\u001b[38;5;241;43m.\u001b[39;49m\u001b[43mautograd\u001b[49m\u001b[38;5;241;43m.\u001b[39;49m\u001b[43mbackward\u001b[49m\u001b[43m(\u001b[49m\n\u001b[0;32m    526\u001b[0m \u001b[43m    \u001b[49m\u001b[38;5;28;43mself\u001b[39;49m\u001b[43m,\u001b[49m\u001b[43m \u001b[49m\u001b[43mgradient\u001b[49m\u001b[43m,\u001b[49m\u001b[43m \u001b[49m\u001b[43mretain_graph\u001b[49m\u001b[43m,\u001b[49m\u001b[43m \u001b[49m\u001b[43mcreate_graph\u001b[49m\u001b[43m,\u001b[49m\u001b[43m \u001b[49m\u001b[43minputs\u001b[49m\u001b[38;5;241;43m=\u001b[39;49m\u001b[43minputs\u001b[49m\n\u001b[0;32m    527\u001b[0m \u001b[43m\u001b[49m\u001b[43m)\u001b[49m\n",
      "File \u001b[1;32mc:\\Users\\h4has\\anaconda3\\envs\\sentencetrans\\lib\\site-packages\\torch\\autograd\\__init__.py:267\u001b[0m, in \u001b[0;36mbackward\u001b[1;34m(tensors, grad_tensors, retain_graph, create_graph, grad_variables, inputs)\u001b[0m\n\u001b[0;32m    262\u001b[0m     retain_graph \u001b[38;5;241m=\u001b[39m create_graph\n\u001b[0;32m    264\u001b[0m \u001b[38;5;66;03m# The reason we repeat the same comment below is that\u001b[39;00m\n\u001b[0;32m    265\u001b[0m \u001b[38;5;66;03m# some Python versions print out the first line of a multi-line function\u001b[39;00m\n\u001b[0;32m    266\u001b[0m \u001b[38;5;66;03m# calls in the traceback and some print out the last line\u001b[39;00m\n\u001b[1;32m--> 267\u001b[0m \u001b[43m_engine_run_backward\u001b[49m\u001b[43m(\u001b[49m\n\u001b[0;32m    268\u001b[0m \u001b[43m    \u001b[49m\u001b[43mtensors\u001b[49m\u001b[43m,\u001b[49m\n\u001b[0;32m    269\u001b[0m \u001b[43m    \u001b[49m\u001b[43mgrad_tensors_\u001b[49m\u001b[43m,\u001b[49m\n\u001b[0;32m    270\u001b[0m \u001b[43m    \u001b[49m\u001b[43mretain_graph\u001b[49m\u001b[43m,\u001b[49m\n\u001b[0;32m    271\u001b[0m \u001b[43m    \u001b[49m\u001b[43mcreate_graph\u001b[49m\u001b[43m,\u001b[49m\n\u001b[0;32m    272\u001b[0m \u001b[43m    \u001b[49m\u001b[43minputs\u001b[49m\u001b[43m,\u001b[49m\n\u001b[0;32m    273\u001b[0m \u001b[43m    \u001b[49m\u001b[43mallow_unreachable\u001b[49m\u001b[38;5;241;43m=\u001b[39;49m\u001b[38;5;28;43;01mTrue\u001b[39;49;00m\u001b[43m,\u001b[49m\n\u001b[0;32m    274\u001b[0m \u001b[43m    \u001b[49m\u001b[43maccumulate_grad\u001b[49m\u001b[38;5;241;43m=\u001b[39;49m\u001b[38;5;28;43;01mTrue\u001b[39;49;00m\u001b[43m,\u001b[49m\n\u001b[0;32m    275\u001b[0m \u001b[43m\u001b[49m\u001b[43m)\u001b[49m\n",
      "File \u001b[1;32mc:\\Users\\h4has\\anaconda3\\envs\\sentencetrans\\lib\\site-packages\\torch\\autograd\\graph.py:744\u001b[0m, in \u001b[0;36m_engine_run_backward\u001b[1;34m(t_outputs, *args, **kwargs)\u001b[0m\n\u001b[0;32m    742\u001b[0m     unregister_hooks \u001b[38;5;241m=\u001b[39m _register_logging_hooks_on_whole_graph(t_outputs)\n\u001b[0;32m    743\u001b[0m \u001b[38;5;28;01mtry\u001b[39;00m:\n\u001b[1;32m--> 744\u001b[0m     \u001b[38;5;28;01mreturn\u001b[39;00m Variable\u001b[38;5;241m.\u001b[39m_execution_engine\u001b[38;5;241m.\u001b[39mrun_backward(  \u001b[38;5;66;03m# Calls into the C++ engine to run the backward pass\u001b[39;00m\n\u001b[0;32m    745\u001b[0m         t_outputs, \u001b[38;5;241m*\u001b[39margs, \u001b[38;5;241m*\u001b[39m\u001b[38;5;241m*\u001b[39mkwargs\n\u001b[0;32m    746\u001b[0m     )  \u001b[38;5;66;03m# Calls into the C++ engine to run the backward pass\u001b[39;00m\n\u001b[0;32m    747\u001b[0m \u001b[38;5;28;01mfinally\u001b[39;00m:\n\u001b[0;32m    748\u001b[0m     \u001b[38;5;28;01mif\u001b[39;00m attach_logging_hooks:\n",
      "\u001b[1;31mKeyboardInterrupt\u001b[0m: "
     ]
    }
   ],
   "source": [
    "# lora_model.train(train_loader, val_loader, lr = 1e-4, num_epochs = 1 )"
   ]
  },
  {
   "cell_type": "code",
   "execution_count": null,
   "metadata": {},
   "outputs": [],
   "source": []
  }
 ],
 "metadata": {
  "kernelspec": {
   "display_name": "sentencetrans",
   "language": "python",
   "name": "python3"
  },
  "language_info": {
   "codemirror_mode": {
    "name": "ipython",
    "version": 3
   },
   "file_extension": ".py",
   "mimetype": "text/x-python",
   "name": "python",
   "nbconvert_exporter": "python",
   "pygments_lexer": "ipython3",
   "version": "3.9.0"
  }
 },
 "nbformat": 4,
 "nbformat_minor": 2
}
