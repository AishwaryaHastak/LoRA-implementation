{
 "cells": [
  {
   "cell_type": "code",
   "execution_count": null,
   "metadata": {},
   "outputs": [],
   "source": [
    "\"\"\"\n",
    "Fine-tunes distill-bert large language model using LoRA\n",
    "on a downstream task (IMDB sentiment classification).\n",
    "\"\"\"\n",
    "\n",
    "TOKEN_MAX_LENGTH = 32\n",
    "BATCH_SIZE = 4\n",
    "MODEL_NAME = 'distilbert-base-uncased'\n",
    "\n"
   ]
  }
 ],
 "metadata": {
  "language_info": {
   "name": "python"
  }
 },
 "nbformat": 4,
 "nbformat_minor": 2
}
